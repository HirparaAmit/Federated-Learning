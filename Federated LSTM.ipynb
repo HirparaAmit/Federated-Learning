{
  "cells": [
    {
      "cell_type": "markdown",
      "source": [
        "Download the `sentimen140` dataset from Kaggle."
      ],
      "metadata": {
        "id": "rHX1Z7J712ZP"
      }
    },
    {
      "cell_type": "code",
      "execution_count": null,
      "metadata": {
        "colab": {
          "base_uri": "https://localhost:8080/"
        },
        "id": "JleH80JpMlEA",
        "outputId": "b1f79957-00a8-4e06-c98b-d90c280370dc"
      },
      "outputs": [
        {
          "output_type": "stream",
          "name": "stdout",
          "text": [
            "Looking in indexes: https://pypi.org/simple, https://us-python.pkg.dev/colab-wheels/public/simple/\n",
            "Requirement already satisfied: kaggle in /usr/local/lib/python3.8/dist-packages (1.5.12)\n",
            "Requirement already satisfied: certifi in /usr/local/lib/python3.8/dist-packages (from kaggle) (2022.12.7)\n",
            "Requirement already satisfied: requests in /usr/local/lib/python3.8/dist-packages (from kaggle) (2.23.0)\n",
            "Requirement already satisfied: python-slugify in /usr/local/lib/python3.8/dist-packages (from kaggle) (7.0.0)\n",
            "Requirement already satisfied: tqdm in /usr/local/lib/python3.8/dist-packages (from kaggle) (4.64.1)\n",
            "Requirement already satisfied: six>=1.10 in /usr/local/lib/python3.8/dist-packages (from kaggle) (1.15.0)\n",
            "Requirement already satisfied: python-dateutil in /usr/local/lib/python3.8/dist-packages (from kaggle) (2.8.2)\n",
            "Requirement already satisfied: urllib3 in /usr/local/lib/python3.8/dist-packages (from kaggle) (1.24.3)\n",
            "Requirement already satisfied: text-unidecode>=1.3 in /usr/local/lib/python3.8/dist-packages (from python-slugify->kaggle) (1.3)\n",
            "Requirement already satisfied: chardet<4,>=3.0.2 in /usr/local/lib/python3.8/dist-packages (from requests->kaggle) (3.0.4)\n",
            "Requirement already satisfied: idna<3,>=2.5 in /usr/local/lib/python3.8/dist-packages (from requests->kaggle) (2.10)\n"
          ]
        }
      ],
      "source": [
        "! pip install kaggle\n",
        "! mkdir ~/.kaggle\n",
        "! cp kaggle.json ~/.kaggle/\n",
        "! chmod 600 ~/.kaggle/kaggle.json"
      ]
    },
    {
      "cell_type": "code",
      "execution_count": null,
      "metadata": {
        "colab": {
          "base_uri": "https://localhost:8080/"
        },
        "id": "xwyCJjXdMw3h",
        "outputId": "4f8ab64a-895a-45f6-9a4f-53abe4db55cc"
      },
      "outputs": [
        {
          "output_type": "stream",
          "name": "stdout",
          "text": [
            "Downloading sentiment140.zip to /content\n",
            " 99% 80.0M/80.9M [00:02<00:00, 44.1MB/s]\n",
            "100% 80.9M/80.9M [00:02<00:00, 33.9MB/s]\n"
          ]
        }
      ],
      "source": [
        "! kaggle datasets download kazanova/sentiment140"
      ]
    },
    {
      "cell_type": "code",
      "execution_count": null,
      "metadata": {
        "colab": {
          "base_uri": "https://localhost:8080/"
        },
        "id": "80POMOBHM9b5",
        "outputId": "1d05485e-6a33-488b-e389-17f0bdf5b551"
      },
      "outputs": [
        {
          "output_type": "stream",
          "name": "stdout",
          "text": [
            "Archive:  /content/sentiment140.zip\n",
            "  inflating: training.1600000.processed.noemoticon.csv  \n"
          ]
        }
      ],
      "source": [
        "! unzip /content/sentiment140.zip"
      ]
    },
    {
      "cell_type": "markdown",
      "source": [
        "Import required dependencies."
      ],
      "metadata": {
        "id": "CLNvopfd3Iqw"
      }
    },
    {
      "cell_type": "code",
      "execution_count": null,
      "metadata": {
        "id": "r_UI8o5fMGCS"
      },
      "outputs": [],
      "source": [
        "import pandas as pd\n",
        "import numpy as np\n",
        "import matplotlib.pyplot as plt\n",
        "import seaborn as sns\n",
        "import re\n",
        "import string\n",
        "import nltk\n",
        "from nltk.stem import WordNetLemmatizer\n",
        "from wordcloud import WordCloud\n",
        "import warnings\n",
        "%matplotlib inline\n",
        "warnings.filterwarnings('ignore')\n",
        "import sklearn\n",
        "import tensorflow as tf\n",
        "from tensorflow import keras\n",
        "from tensorflow.keras.models import Sequential\n",
        "from tensorflow.keras import layers \n",
        "from tensorflow.keras.optimizers import SGD\n",
        "from tensorflow.keras import backend as K\n",
        "from tensorflow.keras.losses import BinaryCrossentropy\n",
        "from tensorflow.keras.optimizers import Adam\n",
        "from tensorflow.keras.metrics import AUC\n",
        "from tensorflow.keras.initializers import glorot_uniform\n",
        "from sklearn.metrics import accuracy_score\n",
        "from sklearn.model_selection import train_test_split\n",
        "from sklearn.metrics import classification_report\n",
        "from sklearn.metrics import log_loss"
      ]
    },
    {
      "cell_type": "markdown",
      "source": [
        "Load the dataset into pandas dataframe. \n",
        "\n",
        "Out of 1.6 million tweets, we just took 40,000 tweets (20,000 from each classes)."
      ],
      "metadata": {
        "id": "2L6LWzQp3ODP"
      }
    },
    {
      "cell_type": "code",
      "execution_count": null,
      "metadata": {
        "colab": {
          "base_uri": "https://localhost:8080/",
          "height": 424
        },
        "id": "DAF6McerM_qg",
        "outputId": "fce8b0d1-2b5f-41a6-c260-df9d906ba6d7"
      },
      "outputs": [
        {
          "output_type": "execute_result",
          "data": {
            "text/plain": [
              "         label          ID                     Date_Time  NO_QUERY  \\\n",
              "0            0  1467810369  Mon Apr 06 22:19:45 PDT 2009  NO_QUERY   \n",
              "1            0  1467810672  Mon Apr 06 22:19:49 PDT 2009  NO_QUERY   \n",
              "2            0  1467810917  Mon Apr 06 22:19:53 PDT 2009  NO_QUERY   \n",
              "3            0  1467811184  Mon Apr 06 22:19:57 PDT 2009  NO_QUERY   \n",
              "4            0  1467811193  Mon Apr 06 22:19:57 PDT 2009  NO_QUERY   \n",
              "...        ...         ...                           ...       ...   \n",
              "1599995      1  2193601966  Tue Jun 16 08:40:49 PDT 2009  NO_QUERY   \n",
              "1599996      1  2193601969  Tue Jun 16 08:40:49 PDT 2009  NO_QUERY   \n",
              "1599997      1  2193601991  Tue Jun 16 08:40:49 PDT 2009  NO_QUERY   \n",
              "1599998      1  2193602064  Tue Jun 16 08:40:49 PDT 2009  NO_QUERY   \n",
              "1599999      1  2193602129  Tue Jun 16 08:40:50 PDT 2009  NO_QUERY   \n",
              "\n",
              "            Account_Name                                              tweet  \n",
              "0        _TheSpecialOne_  @switchfoot http://twitpic.com/2y1zl - Awww, t...  \n",
              "1          scotthamilton  is upset that he can't update his Facebook by ...  \n",
              "2               mattycus  @Kenichan I dived many times for the ball. Man...  \n",
              "3                ElleCTF    my whole body feels itchy and like its on fire   \n",
              "4                 Karoli  @nationwideclass no, it's not behaving at all....  \n",
              "...                  ...                                                ...  \n",
              "1599995  AmandaMarie1028  Just woke up. Having no school is the best fee...  \n",
              "1599996      TheWDBoards  TheWDB.com - Very cool to hear old Walt interv...  \n",
              "1599997           bpbabe  Are you ready for your MoJo Makeover? Ask me f...  \n",
              "1599998     tinydiamondz  Happy 38th Birthday to my boo of alll time!!! ...  \n",
              "1599999   RyanTrevMorris  happy #charitytuesday @theNSPCC @SparksCharity...  \n",
              "\n",
              "[40000 rows x 6 columns]"
            ],
            "text/html": [
              "\n",
              "  <div id=\"df-6926c71e-a9f3-4568-aa37-f1220159f688\">\n",
              "    <div class=\"colab-df-container\">\n",
              "      <div>\n",
              "<style scoped>\n",
              "    .dataframe tbody tr th:only-of-type {\n",
              "        vertical-align: middle;\n",
              "    }\n",
              "\n",
              "    .dataframe tbody tr th {\n",
              "        vertical-align: top;\n",
              "    }\n",
              "\n",
              "    .dataframe thead th {\n",
              "        text-align: right;\n",
              "    }\n",
              "</style>\n",
              "<table border=\"1\" class=\"dataframe\">\n",
              "  <thead>\n",
              "    <tr style=\"text-align: right;\">\n",
              "      <th></th>\n",
              "      <th>label</th>\n",
              "      <th>ID</th>\n",
              "      <th>Date_Time</th>\n",
              "      <th>NO_QUERY</th>\n",
              "      <th>Account_Name</th>\n",
              "      <th>tweet</th>\n",
              "    </tr>\n",
              "  </thead>\n",
              "  <tbody>\n",
              "    <tr>\n",
              "      <th>0</th>\n",
              "      <td>0</td>\n",
              "      <td>1467810369</td>\n",
              "      <td>Mon Apr 06 22:19:45 PDT 2009</td>\n",
              "      <td>NO_QUERY</td>\n",
              "      <td>_TheSpecialOne_</td>\n",
              "      <td>@switchfoot http://twitpic.com/2y1zl - Awww, t...</td>\n",
              "    </tr>\n",
              "    <tr>\n",
              "      <th>1</th>\n",
              "      <td>0</td>\n",
              "      <td>1467810672</td>\n",
              "      <td>Mon Apr 06 22:19:49 PDT 2009</td>\n",
              "      <td>NO_QUERY</td>\n",
              "      <td>scotthamilton</td>\n",
              "      <td>is upset that he can't update his Facebook by ...</td>\n",
              "    </tr>\n",
              "    <tr>\n",
              "      <th>2</th>\n",
              "      <td>0</td>\n",
              "      <td>1467810917</td>\n",
              "      <td>Mon Apr 06 22:19:53 PDT 2009</td>\n",
              "      <td>NO_QUERY</td>\n",
              "      <td>mattycus</td>\n",
              "      <td>@Kenichan I dived many times for the ball. Man...</td>\n",
              "    </tr>\n",
              "    <tr>\n",
              "      <th>3</th>\n",
              "      <td>0</td>\n",
              "      <td>1467811184</td>\n",
              "      <td>Mon Apr 06 22:19:57 PDT 2009</td>\n",
              "      <td>NO_QUERY</td>\n",
              "      <td>ElleCTF</td>\n",
              "      <td>my whole body feels itchy and like its on fire</td>\n",
              "    </tr>\n",
              "    <tr>\n",
              "      <th>4</th>\n",
              "      <td>0</td>\n",
              "      <td>1467811193</td>\n",
              "      <td>Mon Apr 06 22:19:57 PDT 2009</td>\n",
              "      <td>NO_QUERY</td>\n",
              "      <td>Karoli</td>\n",
              "      <td>@nationwideclass no, it's not behaving at all....</td>\n",
              "    </tr>\n",
              "    <tr>\n",
              "      <th>...</th>\n",
              "      <td>...</td>\n",
              "      <td>...</td>\n",
              "      <td>...</td>\n",
              "      <td>...</td>\n",
              "      <td>...</td>\n",
              "      <td>...</td>\n",
              "    </tr>\n",
              "    <tr>\n",
              "      <th>1599995</th>\n",
              "      <td>1</td>\n",
              "      <td>2193601966</td>\n",
              "      <td>Tue Jun 16 08:40:49 PDT 2009</td>\n",
              "      <td>NO_QUERY</td>\n",
              "      <td>AmandaMarie1028</td>\n",
              "      <td>Just woke up. Having no school is the best fee...</td>\n",
              "    </tr>\n",
              "    <tr>\n",
              "      <th>1599996</th>\n",
              "      <td>1</td>\n",
              "      <td>2193601969</td>\n",
              "      <td>Tue Jun 16 08:40:49 PDT 2009</td>\n",
              "      <td>NO_QUERY</td>\n",
              "      <td>TheWDBoards</td>\n",
              "      <td>TheWDB.com - Very cool to hear old Walt interv...</td>\n",
              "    </tr>\n",
              "    <tr>\n",
              "      <th>1599997</th>\n",
              "      <td>1</td>\n",
              "      <td>2193601991</td>\n",
              "      <td>Tue Jun 16 08:40:49 PDT 2009</td>\n",
              "      <td>NO_QUERY</td>\n",
              "      <td>bpbabe</td>\n",
              "      <td>Are you ready for your MoJo Makeover? Ask me f...</td>\n",
              "    </tr>\n",
              "    <tr>\n",
              "      <th>1599998</th>\n",
              "      <td>1</td>\n",
              "      <td>2193602064</td>\n",
              "      <td>Tue Jun 16 08:40:49 PDT 2009</td>\n",
              "      <td>NO_QUERY</td>\n",
              "      <td>tinydiamondz</td>\n",
              "      <td>Happy 38th Birthday to my boo of alll time!!! ...</td>\n",
              "    </tr>\n",
              "    <tr>\n",
              "      <th>1599999</th>\n",
              "      <td>1</td>\n",
              "      <td>2193602129</td>\n",
              "      <td>Tue Jun 16 08:40:50 PDT 2009</td>\n",
              "      <td>NO_QUERY</td>\n",
              "      <td>RyanTrevMorris</td>\n",
              "      <td>happy #charitytuesday @theNSPCC @SparksCharity...</td>\n",
              "    </tr>\n",
              "  </tbody>\n",
              "</table>\n",
              "<p>40000 rows × 6 columns</p>\n",
              "</div>\n",
              "      <button class=\"colab-df-convert\" onclick=\"convertToInteractive('df-6926c71e-a9f3-4568-aa37-f1220159f688')\"\n",
              "              title=\"Convert this dataframe to an interactive table.\"\n",
              "              style=\"display:none;\">\n",
              "        \n",
              "  <svg xmlns=\"http://www.w3.org/2000/svg\" height=\"24px\"viewBox=\"0 0 24 24\"\n",
              "       width=\"24px\">\n",
              "    <path d=\"M0 0h24v24H0V0z\" fill=\"none\"/>\n",
              "    <path d=\"M18.56 5.44l.94 2.06.94-2.06 2.06-.94-2.06-.94-.94-2.06-.94 2.06-2.06.94zm-11 1L8.5 8.5l.94-2.06 2.06-.94-2.06-.94L8.5 2.5l-.94 2.06-2.06.94zm10 10l.94 2.06.94-2.06 2.06-.94-2.06-.94-.94-2.06-.94 2.06-2.06.94z\"/><path d=\"M17.41 7.96l-1.37-1.37c-.4-.4-.92-.59-1.43-.59-.52 0-1.04.2-1.43.59L10.3 9.45l-7.72 7.72c-.78.78-.78 2.05 0 2.83L4 21.41c.39.39.9.59 1.41.59.51 0 1.02-.2 1.41-.59l7.78-7.78 2.81-2.81c.8-.78.8-2.07 0-2.86zM5.41 20L4 18.59l7.72-7.72 1.47 1.35L5.41 20z\"/>\n",
              "  </svg>\n",
              "      </button>\n",
              "      \n",
              "  <style>\n",
              "    .colab-df-container {\n",
              "      display:flex;\n",
              "      flex-wrap:wrap;\n",
              "      gap: 12px;\n",
              "    }\n",
              "\n",
              "    .colab-df-convert {\n",
              "      background-color: #E8F0FE;\n",
              "      border: none;\n",
              "      border-radius: 50%;\n",
              "      cursor: pointer;\n",
              "      display: none;\n",
              "      fill: #1967D2;\n",
              "      height: 32px;\n",
              "      padding: 0 0 0 0;\n",
              "      width: 32px;\n",
              "    }\n",
              "\n",
              "    .colab-df-convert:hover {\n",
              "      background-color: #E2EBFA;\n",
              "      box-shadow: 0px 1px 2px rgba(60, 64, 67, 0.3), 0px 1px 3px 1px rgba(60, 64, 67, 0.15);\n",
              "      fill: #174EA6;\n",
              "    }\n",
              "\n",
              "    [theme=dark] .colab-df-convert {\n",
              "      background-color: #3B4455;\n",
              "      fill: #D2E3FC;\n",
              "    }\n",
              "\n",
              "    [theme=dark] .colab-df-convert:hover {\n",
              "      background-color: #434B5C;\n",
              "      box-shadow: 0px 1px 3px 1px rgba(0, 0, 0, 0.15);\n",
              "      filter: drop-shadow(0px 1px 2px rgba(0, 0, 0, 0.3));\n",
              "      fill: #FFFFFF;\n",
              "    }\n",
              "  </style>\n",
              "\n",
              "      <script>\n",
              "        const buttonEl =\n",
              "          document.querySelector('#df-6926c71e-a9f3-4568-aa37-f1220159f688 button.colab-df-convert');\n",
              "        buttonEl.style.display =\n",
              "          google.colab.kernel.accessAllowed ? 'block' : 'none';\n",
              "\n",
              "        async function convertToInteractive(key) {\n",
              "          const element = document.querySelector('#df-6926c71e-a9f3-4568-aa37-f1220159f688');\n",
              "          const dataTable =\n",
              "            await google.colab.kernel.invokeFunction('convertToInteractive',\n",
              "                                                     [key], {});\n",
              "          if (!dataTable) return;\n",
              "\n",
              "          const docLinkHtml = 'Like what you see? Visit the ' +\n",
              "            '<a target=\"_blank\" href=https://colab.research.google.com/notebooks/data_table.ipynb>data table notebook</a>'\n",
              "            + ' to learn more about interactive tables.';\n",
              "          element.innerHTML = '';\n",
              "          dataTable['output_type'] = 'display_data';\n",
              "          await google.colab.output.renderOutput(dataTable, element);\n",
              "          const docLink = document.createElement('div');\n",
              "          docLink.innerHTML = docLinkHtml;\n",
              "          element.appendChild(docLink);\n",
              "        }\n",
              "      </script>\n",
              "    </div>\n",
              "  </div>\n",
              "  "
            ]
          },
          "metadata": {},
          "execution_count": 5
        }
      ],
      "source": [
        "train_df = pd.read_csv('/content/training.1600000.processed.noemoticon.csv', encoding='ISO-8859-1', names=['label', 'ID', 'Date_Time','NO_QUERY','Account_Name','tweet'])\n",
        "df1 = train_df.head(20000)\n",
        "df2 = train_df.tail(20000)\n",
        "frames = [df1, df2]\n",
        "train_df = pd.concat(frames)\n",
        "train_df = train_df.replace({'label':4},1)\n",
        "train_df"
      ]
    },
    {
      "cell_type": "code",
      "execution_count": null,
      "metadata": {
        "colab": {
          "base_uri": "https://localhost:8080/"
        },
        "id": "7ZRKDrzRQbzF",
        "outputId": "c1abfc58-bb6e-4270-b754-958c958a02ab"
      },
      "outputs": [
        {
          "output_type": "execute_result",
          "data": {
            "text/plain": [
              "0    20000\n",
              "1    20000\n",
              "Name: label, dtype: int64"
            ]
          },
          "metadata": {},
          "execution_count": 6
        }
      ],
      "source": [
        "train_df['label'].value_counts()"
      ]
    },
    {
      "cell_type": "markdown",
      "source": [
        "## Data Preprocessing\n",
        "\n",
        "Now our dataset contains words and ML model dosen't understand the language of words. So we have to convert our dataset from words to numbers. To do this, we have used `Word Lemmatization` method."
      ],
      "metadata": {
        "id": "tIsO23DY43al"
      }
    },
    {
      "cell_type": "code",
      "execution_count": null,
      "metadata": {
        "colab": {
          "base_uri": "https://localhost:8080/"
        },
        "id": "s34fHwH4QgrO",
        "outputId": "6103284f-a8d5-4929-c2d6-3694d9786cb7"
      },
      "outputs": [
        {
          "output_type": "stream",
          "name": "stdout",
          "text": [
            "--2022-12-20 10:50:18--  http://downloads.cs.stanford.edu/nlp/data/glove.6B.zip\n",
            "Resolving downloads.cs.stanford.edu (downloads.cs.stanford.edu)... 171.64.64.22\n",
            "Connecting to downloads.cs.stanford.edu (downloads.cs.stanford.edu)|171.64.64.22|:80... connected.\n",
            "HTTP request sent, awaiting response... 200 OK\n",
            "Length: 862182613 (822M) [application/zip]\n",
            "Saving to: ‘glove.6B.zip’\n",
            "\n",
            "glove.6B.zip        100%[===================>] 822.24M  5.39MB/s    in 2m 41s  \n",
            "\n",
            "2022-12-20 10:52:59 (5.10 MB/s) - ‘glove.6B.zip’ saved [862182613/862182613]\n",
            "\n"
          ]
        }
      ],
      "source": [
        "!wget http://downloads.cs.stanford.edu/nlp/data/glove.6B.zip"
      ]
    },
    {
      "cell_type": "code",
      "execution_count": null,
      "metadata": {
        "colab": {
          "base_uri": "https://localhost:8080/"
        },
        "id": "ZcwxJNRuREzY",
        "outputId": "11f1e137-7cf3-4464-d1de-7d52e763cea4"
      },
      "outputs": [
        {
          "output_type": "stream",
          "name": "stdout",
          "text": [
            "Archive:  glove.6B.zip\n",
            "  inflating: glove.6B.50d.txt        \n",
            "  inflating: glove.6B.100d.txt       \n",
            "  inflating: glove.6B.200d.txt       \n",
            "  inflating: glove.6B.300d.txt       \n"
          ]
        }
      ],
      "source": [
        "!unzip glove.6B.zip"
      ]
    },
    {
      "cell_type": "code",
      "execution_count": null,
      "metadata": {
        "id": "_whdvGT_RR8g"
      },
      "outputs": [],
      "source": [
        "words = dict()\n",
        "\n",
        "def add_to_dict(d, filename):\n",
        "  with open(filename, 'r') as f:\n",
        "    for line in f.readlines():\n",
        "      line = line.split(' ')\n",
        "\n",
        "      try:\n",
        "        d[line[0]] = np.array(line[1:], dtype=float)\n",
        "      except:\n",
        "        continue\n",
        "\n",
        "add_to_dict(words, 'glove.6B.50d.txt')"
      ]
    },
    {
      "cell_type": "code",
      "execution_count": null,
      "metadata": {
        "colab": {
          "base_uri": "https://localhost:8080/"
        },
        "id": "TtP08yB1RVPP",
        "outputId": "97ccc51a-c43e-49b4-e7b6-bf302bf60628"
      },
      "outputs": [
        {
          "output_type": "execute_result",
          "data": {
            "text/plain": [
              "400000"
            ]
          },
          "metadata": {},
          "execution_count": 10
        }
      ],
      "source": [
        "len(words)"
      ]
    },
    {
      "cell_type": "code",
      "execution_count": null,
      "metadata": {
        "colab": {
          "base_uri": "https://localhost:8080/"
        },
        "id": "LyaYH_rURX0X",
        "outputId": "a09d6184-6ab1-4287-b126-f61568846acb"
      },
      "outputs": [
        {
          "output_type": "stream",
          "name": "stderr",
          "text": [
            "[nltk_data] Downloading package wordnet to /root/nltk_data...\n",
            "[nltk_data] Downloading package omw-1.4 to /root/nltk_data...\n"
          ]
        },
        {
          "output_type": "execute_result",
          "data": {
            "text/plain": [
              "True"
            ]
          },
          "metadata": {},
          "execution_count": 11
        }
      ],
      "source": [
        "nltk.download('wordnet')\n",
        "nltk.download('omw-1.4')"
      ]
    },
    {
      "cell_type": "markdown",
      "source": [
        "In the below two cells, I have deal with unwanted text, emojies, urls and many more. "
      ],
      "metadata": {
        "id": "b0c2bkBh8Mok"
      }
    },
    {
      "cell_type": "code",
      "execution_count": null,
      "metadata": {
        "id": "IWgojn_lTuOY"
      },
      "outputs": [],
      "source": [
        "# Define the dictionary to replace emojis with words\n",
        "emojis = {':)': 'smile', ':-)': 'smile', ';d': 'wink', ':-E': 'vampire', ':(': 'sad', \n",
        "          ':-(': 'sad', ':-<': 'sad', ':P': 'raspberry', ':O': 'surprised',\n",
        "          ':-@': 'shocked', ':@': 'shocked',':-$': 'confused', ':\\\\': 'annoyed', \n",
        "          ':#': 'mute', ':X': 'mute', ':^)': 'smile', ':-&': 'confused', '$_$': 'greedy',\n",
        "          '@@': 'eyeroll', ':-!': 'confused', ':-D': 'smile', ':-0': 'yell', 'O.o': 'confused',\n",
        "          '<(-_-)>': 'robot', 'd[-_-]b': 'dj', \":'-)\": 'sadsmile', ';)': 'wink', \n",
        "          ';-)': 'wink', 'O:-)': 'angel','O*-)': 'angel','(:-D': 'gossip', '=^.^=': 'cat'}"
      ]
    },
    {
      "cell_type": "code",
      "execution_count": null,
      "metadata": {
        "id": "qn2lyKj-Tzdh",
        "colab": {
          "base_uri": "https://localhost:8080/"
        },
        "outputId": "20315de0-36b5-462f-cf6c-86399f859f9c"
      },
      "outputs": [
        {
          "output_type": "execute_result",
          "data": {
            "text/plain": [
              "0          user  aww  that s a bummer  you shoulda got da...\n",
              "1          is upset that he can t update his facebook by ...\n",
              "2          user i dived many times for the ball  managed ...\n",
              "3            my whole body feels itchy and like its on fire \n",
              "4          user no  it s not behaving at all  i m mad  wh...\n",
              "                                 ...                        \n",
              "1599995    just woke up  having no school is the best fee...\n",
              "1599996    thewdb com  very cool to hear old walt intervi...\n",
              "1599997    are you ready for your mojo makeover  ask me f...\n",
              "1599998    happy 38th birthday to my boo of all time  tup...\n",
              "1599999                happy  charitytuesday user user user \n",
              "Name: tweet, Length: 40000, dtype: object"
            ]
          },
          "metadata": {},
          "execution_count": 13
        }
      ],
      "source": [
        "# Defining regex patterns.\n",
        "urlPattern        = r\"((http://)[^ ]*|(https://)[^ ]*|( www\\.)[^ ]*)\"\n",
        "userPattern       = '@[^\\s]+'\n",
        "alphaPattern      = \"[^a-zA-Z0-9]\"\n",
        "sequencePattern   = r\"(.)\\1\\1+\"\n",
        "seqReplacePattern = r\"\\1\\1\"\n",
        "\n",
        "def preprocess(tweet):\n",
        "  tweet = tweet.lower()\n",
        "\n",
        "  # Replace all URls with 'URL'\n",
        "  tweet = re.sub(urlPattern,'',tweet)\n",
        "  # Replace all emojis.\n",
        "  for emoji in emojis.keys():\n",
        "      tweet = tweet.replace(emoji, \"EMOJI\" + emojis[emoji])        \n",
        "  # Replace @USERNAME to 'USER'.\n",
        "  tweet = re.sub(userPattern,'user', tweet)        \n",
        "  # Replace all non alphabets.\n",
        "  tweet = re.sub(alphaPattern, \" \", tweet)\n",
        "  # Replace 3 or more consecutive letters by 2 letter.\n",
        "  tweet = re.sub(sequencePattern, seqReplacePattern, tweet)\n",
        "  return tweet\n",
        "\n",
        "for i in train_df['tweet']:\n",
        "  tweet = preprocess(i)\n",
        "  train_df = train_df.replace(i,tweet)\n",
        "\n",
        "train_df['tweet']"
      ]
    },
    {
      "cell_type": "markdown",
      "source": [
        "Used tokenizer from nltk to split a complete sentence in a token of words."
      ],
      "metadata": {
        "id": "hpEiU-mq8ZhD"
      }
    },
    {
      "cell_type": "code",
      "execution_count": null,
      "metadata": {
        "colab": {
          "base_uri": "https://localhost:8080/"
        },
        "id": "ukofy_-0RZd4",
        "outputId": "2d1e071b-e1ef-4df3-a57d-a4c8cc391faa"
      },
      "outputs": [
        {
          "output_type": "execute_result",
          "data": {
            "text/plain": [
              "['user', 'when', 'a', 'father', 'is', 'dysfunctional', 'and', 'is']"
            ]
          },
          "metadata": {},
          "execution_count": 14
        }
      ],
      "source": [
        "tokenizer = nltk.RegexpTokenizer(r\"\\w+\")\n",
        "\n",
        "tokenizer.tokenize('@user when a father is dysfunctional and is')"
      ]
    },
    {
      "cell_type": "markdown",
      "source": [
        "In the below cell, I have used `WordNetLemmatizer` to convert text into numbers."
      ],
      "metadata": {
        "id": "lbvrWZ1j8mef"
      }
    },
    {
      "cell_type": "code",
      "execution_count": null,
      "metadata": {
        "colab": {
          "base_uri": "https://localhost:8080/"
        },
        "id": "z7eMhA_8Ra43",
        "outputId": "1392f51f-35cd-4a66-9181-6d75a269c711"
      },
      "outputs": [
        {
          "output_type": "execute_result",
          "data": {
            "text/plain": [
              "['user', 'foot', 'a', 'father', 'is', 'dysfunctional', 'and', 'is']"
            ]
          },
          "metadata": {},
          "execution_count": 15
        }
      ],
      "source": [
        "lemmatizer = WordNetLemmatizer()\n",
        "\n",
        "lemmatizer.lemmatize('feet')\n",
        "\n",
        "def message_to_token_list(s):\n",
        "  tokens = tokenizer.tokenize(s)\n",
        "  lowercased_tokens = [t.lower() for t in tokens]\n",
        "  lemmatized_tokens = [lemmatizer.lemmatize(t) for t in lowercased_tokens]\n",
        "  useful_tokens = [t for t in lemmatized_tokens if t in words]\n",
        "\n",
        "  return useful_tokens\n",
        "\n",
        "message_to_token_list('@user feet a fathers is dysfunctional and is')"
      ]
    },
    {
      "cell_type": "code",
      "execution_count": null,
      "metadata": {
        "id": "lBd5EW86RdGI"
      },
      "outputs": [],
      "source": [
        "def message_to_word_vectors(message, word_dict=words):\n",
        "  processed_list_of_tokens = message_to_token_list(message)\n",
        "\n",
        "  vectors = []\n",
        "\n",
        "  for token in processed_list_of_tokens:\n",
        "    if token not in word_dict:\n",
        "      continue\n",
        "    \n",
        "    token_vector = word_dict[token]\n",
        "    vectors.append(token_vector)\n",
        "  \n",
        "  return np.array(vectors, dtype=float)"
      ]
    },
    {
      "cell_type": "code",
      "execution_count": null,
      "metadata": {
        "colab": {
          "base_uri": "https://localhost:8080/"
        },
        "id": "sBxbUk22Reuf",
        "outputId": "dbcbde66-8a05-4586-fddc-1ec0c69c900a"
      },
      "outputs": [
        {
          "output_type": "execute_result",
          "data": {
            "text/plain": [
              "(8, 50)"
            ]
          },
          "metadata": {},
          "execution_count": 17
        }
      ],
      "source": [
        "message_to_word_vectors('@user when a father is dysfunctional and is').shape"
      ]
    },
    {
      "cell_type": "markdown",
      "source": [
        "Creat `Train`, `Validation` and `Test` splits."
      ],
      "metadata": {
        "id": "uWH0-FBt87ls"
      }
    },
    {
      "cell_type": "code",
      "execution_count": null,
      "metadata": {
        "colab": {
          "base_uri": "https://localhost:8080/"
        },
        "id": "kGGZjF4wRgxR",
        "outputId": "914198db-a49b-4bee-a48f-abe1bc8cb5e1"
      },
      "outputs": [
        {
          "output_type": "execute_result",
          "data": {
            "text/plain": [
              "(28000, 8000, 4000)"
            ]
          },
          "metadata": {},
          "execution_count": 18
        }
      ],
      "source": [
        "train_df = train_df.sample(frac=1, random_state=1)\n",
        "train_df.reset_index(drop=True, inplace=True)\n",
        "\n",
        "split_index_1 = int(len(train_df) * 0.9)\n",
        "split_index_2 = int(len(train_df) * 0.7)\n",
        "\n",
        "train_df, test_df = train_df[:split_index_1], train_df[split_index_1:]\n",
        "train_df, val_df = train_df[:split_index_2], train_df[split_index_2:]\n",
        "\n",
        "len(train_df), len(val_df), len(test_df)"
      ]
    },
    {
      "cell_type": "code",
      "execution_count": null,
      "metadata": {
        "id": "BokYjjTWT0sY"
      },
      "outputs": [],
      "source": [
        "def df_to_X_y(dff):\n",
        "  y = dff['label'].to_numpy().astype(int)\n",
        "\n",
        "  all_word_vector_sequences = []\n",
        "\n",
        "  for message in dff['tweet']:\n",
        "    message_as_vector_seq = message_to_word_vectors(message)\n",
        "    \n",
        "    if message_as_vector_seq.shape[0] == 0:\n",
        "      message_as_vector_seq = np.zeros(shape=(1, 50))\n",
        "\n",
        "    all_word_vector_sequences.append(message_as_vector_seq)\n",
        "  \n",
        "  return all_word_vector_sequences, y"
      ]
    },
    {
      "cell_type": "code",
      "execution_count": null,
      "metadata": {
        "colab": {
          "base_uri": "https://localhost:8080/"
        },
        "id": "Sgot_if3T1Zg",
        "outputId": "2594afe6-7d07-40f0-b73f-972868c53de4"
      },
      "outputs": [
        {
          "output_type": "stream",
          "name": "stdout",
          "text": [
            "28000 3\n"
          ]
        }
      ],
      "source": [
        "X_train, y_train = df_to_X_y(train_df)\n",
        "\n",
        "print(len(X_train), len(X_train[0]))"
      ]
    },
    {
      "cell_type": "code",
      "execution_count": null,
      "metadata": {
        "colab": {
          "base_uri": "https://localhost:8080/"
        },
        "id": "Iy-m2Vb0WIQe",
        "outputId": "51d8fdb9-d3e4-47b2-de6d-f184718ea64b"
      },
      "outputs": [
        {
          "output_type": "stream",
          "name": "stdout",
          "text": [
            "28000 16\n"
          ]
        }
      ],
      "source": [
        "print(len(X_train), len(X_train[2]))"
      ]
    },
    {
      "cell_type": "code",
      "execution_count": null,
      "metadata": {
        "colab": {
          "base_uri": "https://localhost:8080/",
          "height": 334
        },
        "id": "-lEPtUolWNAn",
        "outputId": "a9ab1f47-cbfa-4cf3-c060-b14af2417792"
      },
      "outputs": [
        {
          "output_type": "execute_result",
          "data": {
            "text/plain": [
              "(array([4.196e+03, 7.443e+03, 5.084e+03, 5.013e+03, 3.169e+03, 2.647e+03,\n",
              "        4.370e+02, 8.000e+00, 2.000e+00, 1.000e+00]),\n",
              " array([ 1. ,  5.6, 10.2, 14.8, 19.4, 24. , 28.6, 33.2, 37.8, 42.4, 47. ]),\n",
              " <a list of 10 Patch objects>)"
            ]
          },
          "metadata": {},
          "execution_count": 22
        },
        {
          "output_type": "display_data",
          "data": {
            "text/plain": [
              "<Figure size 432x288 with 1 Axes>"
            ],
            "image/png": "[encoded data removed]"
          },
          "metadata": {
            "needs_background": "light"
          }
        }
      ],
      "source": [
        "sequence_lengths = []\n",
        "\n",
        "for i in range(len(X_train)):\n",
        "  sequence_lengths.append(len(X_train[i]))\n",
        "\n",
        "import matplotlib.pyplot as plt\n",
        "\n",
        "plt.hist(sequence_lengths)"
      ]
    },
    {
      "cell_type": "code",
      "execution_count": null,
      "metadata": {
        "colab": {
          "base_uri": "https://localhost:8080/"
        },
        "id": "BAJoAHvLWQ1P",
        "outputId": "f3fc5ccb-61e0-460f-b1f0-4fc85f964af1"
      },
      "outputs": [
        {
          "data": {
            "text/plain": [
              "count    28000.000000\n",
              "mean        13.290286\n",
              "std          7.201816\n",
              "min          1.000000\n",
              "25%          7.000000\n",
              "50%         12.000000\n",
              "75%         19.000000\n",
              "max         47.000000\n",
              "dtype: float64"
            ]
          },
          "execution_count": 23,
          "metadata": {},
          "output_type": "execute_result"
        }
      ],
      "source": [
        "pd.Series(sequence_lengths).describe()"
      ]
    },
    {
      "cell_type": "code",
      "execution_count": null,
      "metadata": {
        "id": "LLxth_OFWTPe"
      },
      "outputs": [],
      "source": [
        "from copy import deepcopy\n",
        "\n",
        "def pad_X(X, desired_sequence_length):\n",
        "  X_copy = deepcopy(X)\n",
        "\n",
        "  for i, x in enumerate(X):\n",
        "    x_seq_len = x.shape[0]\n",
        "    sequence_length_difference = desired_sequence_length - x_seq_len\n",
        "    \n",
        "    pad = np.zeros(shape=(sequence_length_difference, 50))\n",
        "\n",
        "    X_copy[i] = np.concatenate([x, pad])\n",
        "  \n",
        "  return np.array(X_copy).astype(float)"
      ]
    },
    {
      "cell_type": "code",
      "execution_count": null,
      "metadata": {
        "colab": {
          "base_uri": "https://localhost:8080/"
        },
        "id": "MElxTSu_WV7-",
        "outputId": "f226242c-6b69-449b-975e-1910f6d70119"
      },
      "outputs": [
        {
          "output_type": "execute_result",
          "data": {
            "text/plain": [
              "(28000, 80, 50)"
            ]
          },
          "metadata": {},
          "execution_count": 25
        }
      ],
      "source": [
        "X_train = pad_X(X_train, 80)\n",
        "\n",
        "X_train.shape"
      ]
    },
    {
      "cell_type": "code",
      "execution_count": null,
      "metadata": {
        "colab": {
          "base_uri": "https://localhost:8080/"
        },
        "id": "W4FlwmRpO5r4",
        "outputId": "7fb392b9-1682-4575-d5ae-3bffd448d166"
      },
      "outputs": [
        {
          "output_type": "execute_result",
          "data": {
            "text/plain": [
              "(28000,)"
            ]
          },
          "metadata": {},
          "execution_count": 26
        }
      ],
      "source": [
        "y_train.shape"
      ]
    },
    {
      "cell_type": "code",
      "execution_count": null,
      "metadata": {
        "colab": {
          "base_uri": "https://localhost:8080/"
        },
        "id": "QWUVtUkZO6hq",
        "outputId": "93e95698-8453-43e7-ac10-7959bd05a643"
      },
      "outputs": [
        {
          "output_type": "execute_result",
          "data": {
            "text/plain": [
              "((8000, 80, 50), (8000,))"
            ]
          },
          "metadata": {},
          "execution_count": 27
        }
      ],
      "source": [
        "X_val, y_val = df_to_X_y(val_df)\n",
        "X_val = pad_X(X_val, 80)\n",
        "\n",
        "X_val.shape, y_val.shape"
      ]
    },
    {
      "cell_type": "code",
      "execution_count": null,
      "metadata": {
        "colab": {
          "base_uri": "https://localhost:8080/"
        },
        "id": "wqPK4j_uQSt0",
        "outputId": "af70f917-4a18-439b-ae66-fa2c5929c589"
      },
      "outputs": [
        {
          "output_type": "execute_result",
          "data": {
            "text/plain": [
              "((4000, 80, 50), (4000,))"
            ]
          },
          "metadata": {},
          "execution_count": 28
        }
      ],
      "source": [
        "X_test, y_test = df_to_X_y(test_df)\n",
        "X_test = pad_X(X_test, 80)\n",
        "\n",
        "X_test.shape, y_test.shape"
      ]
    },
    {
      "cell_type": "markdown",
      "source": [
        "## Federated Learning Algorithm\n",
        "\n",
        "For the federated learning mechanism, we need client devices so that we can test our model. Here by splitting the training dataframe I have created dummy clients to test ML model."
      ],
      "metadata": {
        "id": "lTKl2dyl9ICU"
      }
    },
    {
      "cell_type": "code",
      "execution_count": null,
      "metadata": {
        "id": "U3u060D_QUJR"
      },
      "outputs": [],
      "source": [
        "def create_clients(X_train, y_train, num):\n",
        "    X_train = np.array_split(X_train, num)\n",
        "    y_train = np.array_split(y_train, num)\n",
        "    return X_train, y_train\n",
        "\n",
        "X_train_federated, y_train_federated = create_clients(X_train, y_train, 5)"
      ]
    },
    {
      "cell_type": "markdown",
      "source": [
        "Define basic `LSTM` neural network using `TensorFLow` framework."
      ],
      "metadata": {
        "id": "73ZfitBu9iRM"
      }
    },
    {
      "cell_type": "code",
      "execution_count": null,
      "metadata": {
        "id": "cRUDLrkxQaNq"
      },
      "outputs": [],
      "source": [
        "class NN:\n",
        "    @staticmethod\n",
        "    def build():\n",
        "        model = Sequential()\n",
        "        model.add(layers.Input(shape=(80, 50)))\n",
        "        model.add(layers.LSTM(64, return_sequences=True))\n",
        "        model.add(layers.Dropout(0.2))\n",
        "        model.add(layers.LSTM(64, return_sequences=True))\n",
        "        model.add(layers.Dropout(0.2))\n",
        "        model.add(layers.LSTM(64, return_sequences=True))\n",
        "        model.add(layers.Dropout(0.2))\n",
        "        model.add(layers.Flatten())\n",
        "        model.add(layers.Dense(1, activation='sigmoid'))\n",
        "        return model"
      ]
    },
    {
      "cell_type": "code",
      "execution_count": null,
      "metadata": {
        "colab": {
          "base_uri": "https://localhost:8080/"
        },
        "id": "7QVPENGXQd7b",
        "outputId": "2e549dea-8085-4e36-dc98-5245a372a153"
      },
      "outputs": [
        {
          "output_type": "execute_result",
          "data": {
            "text/plain": [
              "0    14075\n",
              "1    13925\n",
              "Name: label, dtype: int64"
            ]
          },
          "metadata": {},
          "execution_count": 31
        }
      ],
      "source": [
        "frequencies = pd.value_counts(train_df['label'])\n",
        "\n",
        "frequencies"
      ]
    },
    {
      "cell_type": "markdown",
      "source": [
        "Define `test` function."
      ],
      "metadata": {
        "id": "11hRZfvI925u"
      }
    },
    {
      "cell_type": "code",
      "execution_count": null,
      "metadata": {
        "id": "z4k2yV9YQgA7"
      },
      "outputs": [],
      "source": [
        "cla_report = []\n",
        "fed_val_losses = []\n",
        "\n",
        "def mean_weights(weight_list): \n",
        "    return np.mean(weight_list, axis=0)\n",
        "\n",
        "def test_model(X_test, y_test,  model, comms_round):\n",
        "    logits = (model.predict(X_test) > 0.5).astype(int)\n",
        "    report = classification_report(y_test, logits, output_dict=True)\n",
        "    cla_report.append(report)\n",
        "    print(f'COMMUNICATION ROUND : {comms_round+1}')\n",
        "    print(classification_report(y_test, logits))\n",
        "    fed_val_losses.append(log_loss(y_test,logits))"
      ]
    },
    {
      "cell_type": "markdown",
      "source": [
        "Define complete training cycle."
      ],
      "metadata": {
        "id": "5BCkj6bOEU40"
      }
    },
    {
      "cell_type": "code",
      "execution_count": null,
      "metadata": {
        "colab": {
          "base_uri": "https://localhost:8080/"
        },
        "id": "4kLH6iNTQi_x",
        "outputId": "2ed4aafd-67c9-45b1-d18e-acdbd4d874ab"
      },
      "outputs": [
        {
          "output_type": "stream",
          "name": "stdout",
          "text": [
            "250/250 [==============================] - 13s 43ms/step\n",
            "COMMUNICATION ROUND : 1\n",
            "              precision    recall  f1-score   support\n",
            "\n",
            "           0       0.65      0.74      0.69      3956\n",
            "           1       0.71      0.61      0.65      4044\n",
            "\n",
            "    accuracy                           0.68      8000\n",
            "   macro avg       0.68      0.68      0.67      8000\n",
            "weighted avg       0.68      0.68      0.67      8000\n",
            "\n",
            "250/250 [==============================] - 10s 40ms/step\n",
            "COMMUNICATION ROUND : 2\n",
            "              precision    recall  f1-score   support\n",
            "\n",
            "           0       0.68      0.71      0.69      3956\n",
            "           1       0.70      0.67      0.69      4044\n",
            "\n",
            "    accuracy                           0.69      8000\n",
            "   macro avg       0.69      0.69      0.69      8000\n",
            "weighted avg       0.69      0.69      0.69      8000\n",
            "\n",
            "250/250 [==============================] - 11s 41ms/step\n",
            "COMMUNICATION ROUND : 3\n",
            "              precision    recall  f1-score   support\n",
            "\n",
            "           0       0.66      0.77      0.71      3956\n",
            "           1       0.73      0.61      0.67      4044\n",
            "\n",
            "    accuracy                           0.69      8000\n",
            "   macro avg       0.70      0.69      0.69      8000\n",
            "weighted avg       0.70      0.69      0.69      8000\n",
            "\n",
            "250/250 [==============================] - 11s 41ms/step\n",
            "COMMUNICATION ROUND : 4\n",
            "              precision    recall  f1-score   support\n",
            "\n",
            "           0       0.70      0.71      0.70      3956\n",
            "           1       0.71      0.70      0.70      4044\n",
            "\n",
            "    accuracy                           0.70      8000\n",
            "   macro avg       0.70      0.70      0.70      8000\n",
            "weighted avg       0.70      0.70      0.70      8000\n",
            "\n",
            "250/250 [==============================] - 11s 41ms/step\n",
            "COMMUNICATION ROUND : 5\n",
            "              precision    recall  f1-score   support\n",
            "\n",
            "           0       0.70      0.72      0.71      3956\n",
            "           1       0.72      0.70      0.71      4044\n",
            "\n",
            "    accuracy                           0.71      8000\n",
            "   macro avg       0.71      0.71      0.71      8000\n",
            "weighted avg       0.71      0.71      0.71      8000\n",
            "\n",
            "250/250 [==============================] - 10s 40ms/step\n",
            "COMMUNICATION ROUND : 6\n",
            "              precision    recall  f1-score   support\n",
            "\n",
            "           0       0.69      0.75      0.72      3956\n",
            "           1       0.73      0.67      0.70      4044\n",
            "\n",
            "    accuracy                           0.71      8000\n",
            "   macro avg       0.71      0.71      0.71      8000\n",
            "weighted avg       0.71      0.71      0.71      8000\n",
            "\n",
            "250/250 [==============================] - 11s 40ms/step\n",
            "COMMUNICATION ROUND : 7\n",
            "              precision    recall  f1-score   support\n",
            "\n",
            "           0       0.71      0.73      0.72      3956\n",
            "           1       0.73      0.71      0.72      4044\n",
            "\n",
            "    accuracy                           0.72      8000\n",
            "   macro avg       0.72      0.72      0.72      8000\n",
            "weighted avg       0.72      0.72      0.72      8000\n",
            "\n",
            "250/250 [==============================] - 12s 44ms/step\n",
            "COMMUNICATION ROUND : 8\n",
            "              precision    recall  f1-score   support\n",
            "\n",
            "           0       0.71      0.75      0.73      3956\n",
            "           1       0.74      0.70      0.72      4044\n",
            "\n",
            "    accuracy                           0.73      8000\n",
            "   macro avg       0.73      0.73      0.73      8000\n",
            "weighted avg       0.73      0.73      0.73      8000\n",
            "\n",
            "250/250 [==============================] - 11s 41ms/step\n",
            "COMMUNICATION ROUND : 9\n",
            "              precision    recall  f1-score   support\n",
            "\n",
            "           0       0.71      0.76      0.73      3956\n",
            "           1       0.75      0.69      0.72      4044\n",
            "\n",
            "    accuracy                           0.73      8000\n",
            "   macro avg       0.73      0.73      0.73      8000\n",
            "weighted avg       0.73      0.73      0.73      8000\n",
            "\n",
            "250/250 [==============================] - 11s 42ms/step\n",
            "COMMUNICATION ROUND : 10\n",
            "              precision    recall  f1-score   support\n",
            "\n",
            "           0       0.71      0.78      0.74      3956\n",
            "           1       0.76      0.68      0.72      4044\n",
            "\n",
            "    accuracy                           0.73      8000\n",
            "   macro avg       0.73      0.73      0.73      8000\n",
            "weighted avg       0.73      0.73      0.73      8000\n",
            "\n",
            "250/250 [==============================] - 11s 41ms/step\n",
            "COMMUNICATION ROUND : 11\n",
            "              precision    recall  f1-score   support\n",
            "\n",
            "           0       0.74      0.70      0.72      3956\n",
            "           1       0.72      0.76      0.74      4044\n",
            "\n",
            "    accuracy                           0.73      8000\n",
            "   macro avg       0.73      0.73      0.73      8000\n",
            "weighted avg       0.73      0.73      0.73      8000\n",
            "\n",
            "250/250 [==============================] - 11s 42ms/step\n",
            "COMMUNICATION ROUND : 12\n",
            "              precision    recall  f1-score   support\n",
            "\n",
            "           0       0.71      0.78      0.74      3956\n",
            "           1       0.76      0.68      0.72      4044\n",
            "\n",
            "    accuracy                           0.73      8000\n",
            "   macro avg       0.73      0.73      0.73      8000\n",
            "weighted avg       0.73      0.73      0.73      8000\n",
            "\n",
            "250/250 [==============================] - 10s 40ms/step\n",
            "COMMUNICATION ROUND : 13\n",
            "              precision    recall  f1-score   support\n",
            "\n",
            "           0       0.72      0.75      0.74      3956\n",
            "           1       0.75      0.71      0.73      4044\n",
            "\n",
            "    accuracy                           0.73      8000\n",
            "   macro avg       0.73      0.73      0.73      8000\n",
            "weighted avg       0.73      0.73      0.73      8000\n",
            "\n",
            "250/250 [==============================] - 11s 41ms/step\n",
            "COMMUNICATION ROUND : 14\n",
            "              precision    recall  f1-score   support\n",
            "\n",
            "           0       0.72      0.75      0.74      3956\n",
            "           1       0.75      0.72      0.73      4044\n",
            "\n",
            "    accuracy                           0.74      8000\n",
            "   macro avg       0.74      0.74      0.74      8000\n",
            "weighted avg       0.74      0.74      0.74      8000\n",
            "\n",
            "250/250 [==============================] - 11s 43ms/step\n",
            "COMMUNICATION ROUND : 15\n",
            "              precision    recall  f1-score   support\n",
            "\n",
            "           0       0.72      0.76      0.74      3956\n",
            "           1       0.76      0.71      0.73      4044\n",
            "\n",
            "    accuracy                           0.74      8000\n",
            "   macro avg       0.74      0.74      0.74      8000\n",
            "weighted avg       0.74      0.74      0.74      8000\n",
            "\n",
            "250/250 [==============================] - 11s 40ms/step\n",
            "COMMUNICATION ROUND : 16\n",
            "              precision    recall  f1-score   support\n",
            "\n",
            "           0       0.72      0.77      0.74      3956\n",
            "           1       0.76      0.71      0.73      4044\n",
            "\n",
            "    accuracy                           0.74      8000\n",
            "   macro avg       0.74      0.74      0.74      8000\n",
            "weighted avg       0.74      0.74      0.74      8000\n",
            "\n",
            "250/250 [==============================] - 11s 41ms/step\n",
            "COMMUNICATION ROUND : 17\n",
            "              precision    recall  f1-score   support\n",
            "\n",
            "           0       0.71      0.79      0.75      3956\n",
            "           1       0.77      0.69      0.73      4044\n",
            "\n",
            "    accuracy                           0.74      8000\n",
            "   macro avg       0.74      0.74      0.74      8000\n",
            "weighted avg       0.74      0.74      0.74      8000\n",
            "\n",
            "250/250 [==============================] - 11s 42ms/step\n",
            "COMMUNICATION ROUND : 18\n",
            "              precision    recall  f1-score   support\n",
            "\n",
            "           0       0.71      0.79      0.75      3956\n",
            "           1       0.77      0.69      0.73      4044\n",
            "\n",
            "    accuracy                           0.74      8000\n",
            "   macro avg       0.74      0.74      0.74      8000\n",
            "weighted avg       0.74      0.74      0.74      8000\n",
            "\n",
            "250/250 [==============================] - 11s 42ms/step\n",
            "COMMUNICATION ROUND : 19\n",
            "              precision    recall  f1-score   support\n",
            "\n",
            "           0       0.73      0.75      0.74      3956\n",
            "           1       0.75      0.73      0.74      4044\n",
            "\n",
            "    accuracy                           0.74      8000\n",
            "   macro avg       0.74      0.74      0.74      8000\n",
            "weighted avg       0.74      0.74      0.74      8000\n",
            "\n",
            "250/250 [==============================] - 12s 45ms/step\n",
            "COMMUNICATION ROUND : 20\n",
            "              precision    recall  f1-score   support\n",
            "\n",
            "           0       0.73      0.76      0.74      3956\n",
            "           1       0.75      0.72      0.74      4044\n",
            "\n",
            "    accuracy                           0.74      8000\n",
            "   macro avg       0.74      0.74      0.74      8000\n",
            "weighted avg       0.74      0.74      0.74      8000\n",
            "\n"
          ]
        }
      ],
      "source": [
        "data = list(zip(X_train_federated, y_train_federated))\n",
        "comms_round = 20\n",
        "\n",
        "smlp_global = NN()\n",
        "global_model = smlp_global.build()\n",
        "\n",
        "for comm_round in range(comms_round):\n",
        "    global_weights = global_model.get_weights()\n",
        "    local_weight_list = list()\n",
        "    for i in data:\n",
        "        smlp_local = NN()\n",
        "        local_model = smlp_local.build()\n",
        "        local_model.compile(loss=BinaryCrossentropy(), optimizer=Adam(learning_rate=0.0001),metrics=['accuracy', AUC(name='auc')])\n",
        "        local_model.set_weights(global_weights)\n",
        "        local_model.fit(i[0], i[1], epochs=5, verbose=0)\n",
        "        local_weight_list.append(np.array(local_model.get_weights(), dtype=object))\n",
        "        K.clear_session()\n",
        "    average_weights = mean_weights(local_weight_list)\n",
        "    global_model.set_weights(average_weights)\n",
        "    \n",
        "    test_model(X_val, y_val, global_model, comm_round)"
      ]
    },
    {
      "cell_type": "markdown",
      "source": [
        "Predictions on `test` dataset."
      ],
      "metadata": {
        "id": "Ljscbn1aEfpF"
      }
    },
    {
      "cell_type": "code",
      "execution_count": null,
      "metadata": {
        "colab": {
          "base_uri": "https://localhost:8080/"
        },
        "id": "s2iEftwRPY1v",
        "outputId": "ed5c5083-208e-4969-ccec-913feba2d82d"
      },
      "outputs": [
        {
          "output_type": "stream",
          "name": "stdout",
          "text": [
            "125/125 [==============================] - 5s 41ms/step\n",
            "              precision    recall  f1-score   support\n",
            "\n",
            "           0       0.72      0.76      0.74      1969\n",
            "           1       0.75      0.71      0.73      2031\n",
            "\n",
            "    accuracy                           0.74      4000\n",
            "   macro avg       0.74      0.74      0.74      4000\n",
            "weighted avg       0.74      0.74      0.74      4000\n",
            "\n"
          ]
        }
      ],
      "source": [
        "federated_preds = (global_model.predict(X_test) > 0.5).astype(int)\n",
        "print(classification_report(y_test, federated_preds))"
      ]
    },
    {
      "cell_type": "code",
      "source": [
        "log_loss(y_test,federated_preds)"
      ],
      "metadata": {
        "colab": {
          "base_uri": "https://localhost:8080/"
        },
        "id": "mdHyW-XvBi1c",
        "outputId": "fac15c75-6b80-4548-89c1-a58b5fc07708"
      },
      "execution_count": null,
      "outputs": [
        {
          "data": {
            "text/plain": [
              "9.118330721055111"
            ]
          },
          "execution_count": 35,
          "metadata": {},
          "output_type": "execute_result"
        }
      ]
    },
    {
      "cell_type": "markdown",
      "source": [
        "Confusion matrix and graphs."
      ],
      "metadata": {
        "id": "CZcH6tAoE_t-"
      }
    },
    {
      "cell_type": "code",
      "source": [
        "from sklearn.metrics import confusion_matrix\n",
        "conf_matrix = confusion_matrix(y_test, federated_preds)\n",
        "fig, ax = plt.subplots(figsize=(7.5, 7.5))\n",
        "ax.matshow(conf_matrix, cmap=plt.cm.Blues, alpha=0.3)\n",
        "for i in range(conf_matrix.shape[0]):\n",
        "    for j in range(conf_matrix.shape[1]):\n",
        "        ax.text(x=j, y=i,s=conf_matrix[i, j], va='center', ha='center', size='xx-large')\n",
        " \n",
        "plt.xlabel('Predictions', fontsize=18)\n",
        "plt.ylabel('Actuals', fontsize=18)\n",
        "plt.title('Confusion Matrix - Federated LSTM', fontsize=18)\n",
        "plt.show()"
      ],
      "metadata": {
        "colab": {
          "base_uri": "https://localhost:8080/",
          "height": 501
        },
        "id": "_LUtuqUD9RUX",
        "outputId": "ee61d1d3-e2d7-4ecf-9bf5-8d50ff6449b0"
      },
      "execution_count": null,
      "outputs": [
        {
          "output_type": "display_data",
          "data": {
            "text/plain": [
              "<Figure size 540x540 with 1 Axes>"
            ],
            "image/png": "[encoded data removed]"
          },
          "metadata": {
            "needs_background": "light"
          }
        }
      ]
    },
    {
      "cell_type": "code",
      "source": [
        "x = []\n",
        "for i in range(comms_round):\n",
        "  x.append(i+1)\n",
        "y = []\n",
        "for i in range(comms_round):\n",
        "  acc = cla_report[i]['accuracy']\n",
        "  y.append(acc)\n",
        "plt.plot(x,y)\n",
        "plt.title(\"Communication Round vs. Validation Accuracy\")\n",
        "plt.xlabel('Communication Round')\n",
        "plt.ylabel('Validation Accuracy')\n",
        "plt.show()"
      ],
      "metadata": {
        "colab": {
          "base_uri": "https://localhost:8080/",
          "height": 295
        },
        "id": "_zo0gFrBVtzz",
        "outputId": "d7692b5f-7e1b-4f70-8a68-9a6f4bb87574"
      },
      "execution_count": null,
      "outputs": [
        {
          "output_type": "display_data",
          "data": {
            "text/plain": [
              "<Figure size 432x288 with 1 Axes>"
            ],
            "image/png": "[encoded data removed]"
          },
          "metadata": {
            "needs_background": "light"
          }
        }
      ]
    },
    {
      "cell_type": "code",
      "source": [
        "x = []\n",
        "for i in range(comms_round):\n",
        "  x.append(i+1)\n",
        "plt.plot(x,fed_val_losses)\n",
        "plt.title(\"Communication Round vs. Validation Loss\")\n",
        "plt.xlabel('Communication Round')\n",
        "plt.ylabel('Validation Loss')\n",
        "plt.show()"
      ],
      "metadata": {
        "colab": {
          "base_uri": "https://localhost:8080/",
          "height": 295
        },
        "id": "_Urh65AkWI1l",
        "outputId": "69d0e01b-c470-458a-c499-6eeac9bdd5a6"
      },
      "execution_count": null,
      "outputs": [
        {
          "output_type": "display_data",
          "data": {
            "text/plain": [
              "<Figure size 432x288 with 1 Axes>"
            ],
            "image/png": "[encoded data removed]"
          },
          "metadata": {
            "needs_background": "light"
          }
        }
      ]
    },
    {
      "cell_type": "markdown",
      "metadata": {
        "id": "ELmkr_auPdUb"
      },
      "source": [
        "## Server Based Learning (Normal)"
      ]
    },
    {
      "cell_type": "code",
      "execution_count": null,
      "metadata": {
        "id": "D10dHJtvPe7g",
        "colab": {
          "base_uri": "https://localhost:8080/"
        },
        "outputId": "da2b4a88-343b-4d43-8992-1ae51a3b65fe"
      },
      "outputs": [
        {
          "output_type": "stream",
          "name": "stdout",
          "text": [
            "Epoch 1/10\n",
            "875/875 [==============================] - 125s 138ms/step - loss: 0.6243 - accuracy: 0.6477 - auc: 0.7060 - val_loss: 0.5915 - val_accuracy: 0.6854 - val_auc: 0.7550\n",
            "Epoch 2/10\n",
            "875/875 [==============================] - 118s 135ms/step - loss: 0.5811 - accuracy: 0.6915 - auc: 0.7606 - val_loss: 0.5868 - val_accuracy: 0.6862 - val_auc: 0.7634\n",
            "Epoch 3/10\n",
            "875/875 [==============================] - 120s 137ms/step - loss: 0.5710 - accuracy: 0.7000 - auc: 0.7711 - val_loss: 0.5918 - val_accuracy: 0.6820 - val_auc: 0.7715\n",
            "Epoch 4/10\n",
            "875/875 [==============================] - 119s 136ms/step - loss: 0.5629 - accuracy: 0.7067 - auc: 0.7796 - val_loss: 0.5735 - val_accuracy: 0.6966 - val_auc: 0.7792\n",
            "Epoch 5/10\n",
            "875/875 [==============================] - 120s 137ms/step - loss: 0.5548 - accuracy: 0.7130 - auc: 0.7873 - val_loss: 0.5571 - val_accuracy: 0.7121 - val_auc: 0.7865\n",
            "Epoch 6/10\n",
            "875/875 [==============================] - 122s 140ms/step - loss: 0.5459 - accuracy: 0.7201 - auc: 0.7956 - val_loss: 0.5557 - val_accuracy: 0.7132 - val_auc: 0.7920\n",
            "Epoch 7/10\n",
            "875/875 [==============================] - 120s 138ms/step - loss: 0.5399 - accuracy: 0.7238 - auc: 0.8012 - val_loss: 0.5452 - val_accuracy: 0.7265 - val_auc: 0.7977\n",
            "Epoch 8/10\n",
            "875/875 [==============================] - 120s 137ms/step - loss: 0.5323 - accuracy: 0.7299 - auc: 0.8083 - val_loss: 0.5423 - val_accuracy: 0.7295 - val_auc: 0.8021\n",
            "Epoch 9/10\n",
            "875/875 [==============================] - 120s 138ms/step - loss: 0.5279 - accuracy: 0.7325 - auc: 0.8116 - val_loss: 0.5378 - val_accuracy: 0.7316 - val_auc: 0.8048\n",
            "Epoch 10/10\n",
            "875/875 [==============================] - 120s 137ms/step - loss: 0.5240 - accuracy: 0.7384 - auc: 0.8152 - val_loss: 0.5498 - val_accuracy: 0.7174 - val_auc: 0.8062\n"
          ]
        }
      ],
      "source": [
        "lstm = NN().build()\n",
        "lstm.compile(loss=BinaryCrossentropy(), optimizer=Adam(learning_rate=0.0001),metrics=['accuracy', AUC(name='auc')])\n",
        "hist = lstm.fit(X_train, y_train, epochs=10, validation_data=(X_val, y_val))"
      ]
    },
    {
      "cell_type": "code",
      "execution_count": null,
      "metadata": {
        "id": "hyhHrJImPpnj",
        "colab": {
          "base_uri": "https://localhost:8080/"
        },
        "outputId": "ee5f0268-30cf-496f-aadd-506fd13c54d6"
      },
      "outputs": [
        {
          "output_type": "stream",
          "name": "stdout",
          "text": [
            "125/125 [==============================] - 6s 41ms/step\n",
            "              precision    recall  f1-score   support\n",
            "\n",
            "           0       0.76      0.63      0.69      1969\n",
            "           1       0.69      0.81      0.75      2031\n",
            "\n",
            "    accuracy                           0.72      4000\n",
            "   macro avg       0.73      0.72      0.72      4000\n",
            "weighted avg       0.73      0.72      0.72      4000\n",
            "\n"
          ]
        }
      ],
      "source": [
        "preds = (lstm.predict(X_test) > 0.5).astype(int)\n",
        "print(classification_report(y_test, preds))"
      ]
    },
    {
      "cell_type": "code",
      "source": [
        "from sklearn.metrics import log_loss\n",
        "log_loss(y_test,preds)"
      ],
      "metadata": {
        "colab": {
          "base_uri": "https://localhost:8080/"
        },
        "id": "Lx9h56w6B8kG",
        "outputId": "54a060d9-28cd-476c-d350-46a4ef12bc55"
      },
      "execution_count": null,
      "outputs": [
        {
          "output_type": "execute_result",
          "data": {
            "text/plain": [
              "9.653732529613045"
            ]
          },
          "metadata": {},
          "execution_count": 41
        }
      ]
    },
    {
      "cell_type": "code",
      "source": [
        "from sklearn.metrics import confusion_matrix\n",
        "conf_matrix = confusion_matrix(y_test, preds)\n",
        "fig, ax = plt.subplots(figsize=(7.5, 7.5))\n",
        "ax.matshow(conf_matrix, cmap=plt.cm.Blues, alpha=0.3)\n",
        "for i in range(conf_matrix.shape[0]):\n",
        "    for j in range(conf_matrix.shape[1]):\n",
        "        ax.text(x=j, y=i,s=conf_matrix[i, j], va='center', ha='center', size='xx-large')\n",
        " \n",
        "plt.xlabel('Predictions', fontsize=18)\n",
        "plt.ylabel('Actuals', fontsize=18)\n",
        "plt.title('Confusion Matrix - Server based LSTM', fontsize=18)\n",
        "plt.show()"
      ],
      "metadata": {
        "colab": {
          "base_uri": "https://localhost:8080/",
          "height": 501
        },
        "id": "Avd5gDLkAw2G",
        "outputId": "d5cba825-f18c-45ef-cf29-42b08c42edeb"
      },
      "execution_count": null,
      "outputs": [
        {
          "output_type": "display_data",
          "data": {
            "text/plain": [
              "<Figure size 540x540 with 1 Axes>"
            ],
            "image/png": "[encoded data removed]"
          },
          "metadata": {
            "needs_background": "light"
          }
        }
      ]
    },
    {
      "cell_type": "code",
      "execution_count": null,
      "metadata": {
        "colab": {
          "base_uri": "https://localhost:8080/",
          "height": 295
        },
        "id": "7NdCND_Cmt_y",
        "outputId": "64acda9a-0893-40bf-babc-37bc44e8a4d9"
      },
      "outputs": [
        {
          "output_type": "display_data",
          "data": {
            "text/plain": [
              "<Figure size 432x288 with 1 Axes>"
            ],
            "image/png": "[encoded data removed]"
          },
          "metadata": {
            "needs_background": "light"
          }
        }
      ],
      "source": [
        "x = []\n",
        "for i in range(10):\n",
        "  x.append(i+1)\n",
        "y = hist.history['val_accuracy']\n",
        "plt.plot(x,y)\n",
        "plt.title(\"Epoch vs. Validation Accuracy\")\n",
        "plt.xlabel('Epoch')\n",
        "plt.ylabel('Validation Accuracy')\n",
        "plt.show()"
      ]
    },
    {
      "cell_type": "code",
      "source": [
        "x = []\n",
        "for i in range(10):\n",
        "  x.append(i+1)\n",
        "y = hist.history['val_loss']\n",
        "plt.plot(x,y)\n",
        "plt.title(\"Epoch vs. Validation Loss\")\n",
        "plt.xlabel('Epoch')\n",
        "plt.ylabel('Validation Loss')\n",
        "plt.show()"
      ],
      "metadata": {
        "colab": {
          "base_uri": "https://localhost:8080/",
          "height": 295
        },
        "id": "Gs4GC7ReWNoY",
        "outputId": "0c99ba34-13d1-4a46-9cfe-2d85b962a9cc"
      },
      "execution_count": null,
      "outputs": [
        {
          "output_type": "display_data",
          "data": {
            "text/plain": [
              "<Figure size 432x288 with 1 Axes>"
            ],
            "image/png": "[encoded data removed]"
          },
          "metadata": {
            "needs_background": "light"
          }
        }
      ]
    },
    {
      "cell_type": "markdown",
      "metadata": {
        "id": "B0_QhJXpQQpL"
      },
      "source": [
        "## Sanders – Twitter Sentiment Corpus Dataset"
      ]
    },
    {
      "cell_type": "code",
      "execution_count": null,
      "metadata": {
        "id": "77WbC-w_QSuc"
      },
      "outputs": [],
      "source": [
        "import requests\n",
        "\n",
        "url = 'https://raw.githubusercontent.com/zfz/twitter_corpus/master/full-corpus.csv'\n",
        "res = requests.get(url, allow_redirects=True)\n",
        "with open('Tweet_dataset.csv','wb') as file:\n",
        "    file.write(res.content)\n",
        "df_3 = pd.read_csv('Tweet_dataset.csv', names=['topic','label','id','date','tweet'])\n",
        "df_3 = df_3.drop(index=0)\n",
        "df_3 = df_3.loc[(df_3['label'] == 'positive') | (df_3['label'] == 'negative')]\n",
        "df_3 = df_3.replace({'label': {'positive': 1, 'negative': 0}})"
      ]
    },
    {
      "cell_type": "code",
      "source": [
        "for i in df_3['tweet']:\n",
        "  tweet = preprocess(i)\n",
        "  df_3 = df_3.replace(i,tweet)"
      ],
      "metadata": {
        "id": "El1jTjH8ETIv"
      },
      "execution_count": null,
      "outputs": []
    },
    {
      "cell_type": "code",
      "source": [
        "# neg_df = df_3[df_3['label'] == 0]\n",
        "# neg_tweets = []\n",
        "# for i in neg_df['tweet']:\n",
        "#   neg_tweets.append(i)\n",
        "\n",
        "# pos_df = df_3[df_3['label'] == 1]\n",
        "# pos_tweets = []\n",
        "# for i in pos_df['tweet']:\n",
        "#   pos_tweets.append(i)"
      ],
      "metadata": {
        "id": "3wZR1NapBaNv"
      },
      "execution_count": null,
      "outputs": []
    },
    {
      "cell_type": "code",
      "source": [
        "# Display words which belongs to label '0'\n",
        "\n",
        "# data_neg = neg_tweets\n",
        "# plt.figure(figsize = (15,15))\n",
        "# wc = WordCloud(max_words = 1500 , width = 1600 , height = 800,\n",
        "#                collocations=False).generate(\" \".join(data_neg))\n",
        "# plt.title('(a) World cloud for negative tweets')\n",
        "# plt.imshow(wc)"
      ],
      "metadata": {
        "id": "o0DGnj_wX2mO"
      },
      "execution_count": null,
      "outputs": []
    },
    {
      "cell_type": "code",
      "source": [
        "# Display words which belongs to label '1'\n",
        "\n",
        "# data_neg = pos_tweets\n",
        "# plt.figure(figsize = (15,15))\n",
        "# wc = WordCloud(max_words = 1500 , width = 1600 , height = 800,\n",
        "#                collocations=False).generate(\" \".join(data_neg))\n",
        "# plt.title('(b) World cloud for positive tweets')\n",
        "# plt.imshow(wc)"
      ],
      "metadata": {
        "id": "8AyWHS5dCnc4"
      },
      "execution_count": null,
      "outputs": []
    },
    {
      "cell_type": "code",
      "execution_count": null,
      "metadata": {
        "id": "bXlc3A4OQUaA"
      },
      "outputs": [],
      "source": [
        "df_3 = df_3.sample(frac=1, random_state=1)\n",
        "X_test_3, y_test_3 = df_to_X_y(df_3)"
      ]
    },
    {
      "cell_type": "code",
      "execution_count": null,
      "metadata": {
        "colab": {
          "base_uri": "https://localhost:8080/"
        },
        "id": "_FH5GRWKQYe8",
        "outputId": "a16612a2-10f0-4bb7-a778-e1966a748dce"
      },
      "outputs": [
        {
          "output_type": "execute_result",
          "data": {
            "text/plain": [
              "((1091, 80, 50), (1091,))"
            ]
          },
          "metadata": {},
          "execution_count": 51
        }
      ],
      "source": [
        "X_test_3 = pad_X(X_test_3, 80)\n",
        "X_test_3.shape, y_test_3.shape"
      ]
    },
    {
      "cell_type": "code",
      "execution_count": null,
      "metadata": {
        "colab": {
          "base_uri": "https://localhost:8080/"
        },
        "id": "3FM_mdfqQZ0Y",
        "outputId": "066aeb84-1fea-40c4-9968-4754257f9818"
      },
      "outputs": [
        {
          "output_type": "stream",
          "name": "stdout",
          "text": [
            "35/35 [==============================] - 3s 41ms/step\n",
            "              precision    recall  f1-score   support\n",
            "\n",
            "           0       0.80      0.54      0.64       572\n",
            "           1       0.63      0.86      0.72       519\n",
            "\n",
            "    accuracy                           0.69      1091\n",
            "   macro avg       0.71      0.70      0.68      1091\n",
            "weighted avg       0.72      0.69      0.68      1091\n",
            "\n"
          ]
        }
      ],
      "source": [
        "federated_preds_3 = (global_model.predict(X_test_3) > 0.5).astype(int)\n",
        "print(classification_report(y_test_3, federated_preds_3))"
      ]
    },
    {
      "cell_type": "code",
      "source": [
        "from sklearn.metrics import log_loss\n",
        "log_loss(y_test_3,federated_preds_3)"
      ],
      "metadata": {
        "colab": {
          "base_uri": "https://localhost:8080/"
        },
        "id": "oyoXbdW0CWDF",
        "outputId": "ab0234f8-d1d5-440e-cc8a-877b54f46a32"
      },
      "execution_count": null,
      "outputs": [
        {
          "output_type": "execute_result",
          "data": {
            "text/plain": [
              "10.763882555076659"
            ]
          },
          "metadata": {},
          "execution_count": 53
        }
      ]
    },
    {
      "cell_type": "code",
      "source": [
        "from sklearn.metrics import confusion_matrix\n",
        "conf_matrix = confusion_matrix(y_test_3, federated_preds_3)\n",
        "fig, ax = plt.subplots(figsize=(7.5, 7.5))\n",
        "ax.matshow(conf_matrix, cmap=plt.cm.Blues, alpha=0.3)\n",
        "for i in range(conf_matrix.shape[0]):\n",
        "    for j in range(conf_matrix.shape[1]):\n",
        "        ax.text(x=j, y=i,s=conf_matrix[i, j], va='center', ha='center', size='xx-large')\n",
        " \n",
        "plt.xlabel('Predictions', fontsize=18)\n",
        "plt.ylabel('Actuals', fontsize=18)\n",
        "plt.title('Confusion Matrix - Federated LSTM', fontsize=18)\n",
        "plt.show()"
      ],
      "metadata": {
        "colab": {
          "base_uri": "https://localhost:8080/",
          "height": 501
        },
        "id": "-xWJO4GaCXoE",
        "outputId": "f871b548-e108-415e-c66d-b49288f28a2a"
      },
      "execution_count": null,
      "outputs": [
        {
          "output_type": "display_data",
          "data": {
            "text/plain": [
              "<Figure size 540x540 with 1 Axes>"
            ],
            "image/png": "[encoded data removed]"
          },
          "metadata": {
            "needs_background": "light"
          }
        }
      ]
    },
    {
      "cell_type": "code",
      "execution_count": null,
      "metadata": {
        "colab": {
          "base_uri": "https://localhost:8080/"
        },
        "id": "qNWLNBxyQaG9",
        "outputId": "65a7126b-c617-488f-c228-ff326058cd3e"
      },
      "outputs": [
        {
          "output_type": "stream",
          "name": "stdout",
          "text": [
            "35/35 [==============================] - 3s 42ms/step\n",
            "              precision    recall  f1-score   support\n",
            "\n",
            "           0       0.78      0.34      0.48       572\n",
            "           1       0.55      0.89      0.68       519\n",
            "\n",
            "    accuracy                           0.60      1091\n",
            "   macro avg       0.67      0.62      0.58      1091\n",
            "weighted avg       0.67      0.60      0.58      1091\n",
            "\n"
          ]
        }
      ],
      "source": [
        "preds_3 = (lstm.predict(X_test_3) > 0.5).astype(int)\n",
        "print(classification_report(y_test_3, preds_3))"
      ]
    },
    {
      "cell_type": "code",
      "source": [
        "from sklearn.metrics import log_loss\n",
        "log_loss(y_test_3,preds_3)"
      ],
      "metadata": {
        "colab": {
          "base_uri": "https://localhost:8080/"
        },
        "id": "LD3tCoKDCfOD",
        "outputId": "e1004eff-8715-4f0c-ee60-ae4119201824"
      },
      "execution_count": null,
      "outputs": [
        {
          "output_type": "execute_result",
          "data": {
            "text/plain": [
              "13.64483269958096"
            ]
          },
          "metadata": {},
          "execution_count": 56
        }
      ]
    },
    {
      "cell_type": "code",
      "source": [
        "from sklearn.metrics import confusion_matrix\n",
        "conf_matrix = confusion_matrix(y_test_3, preds_3)\n",
        "fig, ax = plt.subplots(figsize=(7.5, 7.5))\n",
        "ax.matshow(conf_matrix, cmap=plt.cm.Blues, alpha=0.3)\n",
        "for i in range(conf_matrix.shape[0]):\n",
        "    for j in range(conf_matrix.shape[1]):\n",
        "        ax.text(x=j, y=i,s=conf_matrix[i, j], va='center', ha='center', size='xx-large')\n",
        " \n",
        "plt.xlabel('Predictions', fontsize=18)\n",
        "plt.ylabel('Actuals', fontsize=18)\n",
        "plt.title('Confusion Matrix - Server based LSTM', fontsize=18)\n",
        "plt.show()"
      ],
      "metadata": {
        "colab": {
          "base_uri": "https://localhost:8080/",
          "height": 501
        },
        "id": "bJG1wVaFCdgH",
        "outputId": "32cb7625-cceb-4f80-d349-ee60cb317c9c"
      },
      "execution_count": null,
      "outputs": [
        {
          "output_type": "display_data",
          "data": {
            "text/plain": [
              "<Figure size 540x540 with 1 Axes>"
            ],
            "image/png": "[encoded data removed]"
          },
          "metadata": {
            "needs_background": "light"
          }
        }
      ]
    }
  ],
  "metadata": {
    "colab": {
      "provenance": []
    },
    "kernelspec": {
      "display_name": "Python 3",
      "name": "python3"
    },
    "language_info": {
      "name": "python"
    }
  },
  "nbformat": 4,
  "nbformat_minor": 0
}